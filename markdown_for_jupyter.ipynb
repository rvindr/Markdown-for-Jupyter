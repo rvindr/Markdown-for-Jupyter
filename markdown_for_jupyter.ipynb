{
 "cells": [
  {
   "cell_type": "markdown",
   "id": "d3cdf474",
   "metadata": {},
   "source": [
    "<div class=\"alert alert-block alert-info\">\n",
    "<h1 style=\"color:black\">Heading</h1>\n",
    "</div>\n"
   ]
  },
  {
   "cell_type": "markdown",
   "id": "f35a18f0",
   "metadata": {},
   "source": [
    "# This is used for titles\n",
    "## Used for major headings\n",
    "### For major subheadings\n",
    "#### For 4th level  subheadings"
   ]
  },
  {
   "cell_type": "markdown",
   "id": "65ef3537",
   "metadata": {},
   "source": [
    "<div class=\"alert alert-block alert-info\">\n",
    "<h1 style=\"color:black\">Emphasis</h1>\n",
    "</div>\n"
   ]
  },
  {
   "cell_type": "markdown",
   "id": "959f91a5",
   "metadata": {},
   "source": [
    "Bold Text: __use double underscore at starting and end__ or **use double star**\n",
    "\n",
    "Italic Text: _use single underscore_or * single star*"
   ]
  },
  {
   "cell_type": "markdown",
   "id": "900e0e4c",
   "metadata": {},
   "source": [
    "<div class=\"alert alert-block alert-info\">\n",
    "<h1 style=\"color:black\">Monospace Font</h1>\n",
    "</div>\n"
   ]
  },
  {
   "cell_type": "markdown",
   "id": "f1f396b1",
   "metadata": {},
   "source": [
    "Surround text with a grave accent (` `) also called a back single quotation mark, for example: ` back slash`\n"
   ]
  },
  {
   "cell_type": "markdown",
   "id": "4e538d3c",
   "metadata": {},
   "source": [
    "<div class=\"alert alert-block alert-info\">\n",
    "<h1 style=\"color:black\">Line Break</h1>\n",
    "</div>\n"
   ]
  },
  {
   "cell_type": "markdown",
   "id": "8a519efe",
   "metadata": {},
   "source": [
    "To force a linebreak :\n",
    "use `<br>` <br>"
   ]
  },
  {
   "cell_type": "markdown",
   "id": "f8e4b779",
   "metadata": {},
   "source": [
    "<div class=\"alert alert-block alert-info\">\n",
    "<h1 style=\"color:black\">Bullets</h1>\n",
    "</div>\n"
   ]
  },
  {
   "cell_type": "markdown",
   "id": "7ba95278",
   "metadata": {},
   "source": [
    "  - Circular Bullet Point: use A hyphen (-) followed by one or two spaces, \n",
    "      - Sub Bullet Point: press tab before entering bullet point"
   ]
  },
  {
   "cell_type": "markdown",
   "id": "1573b8a2",
   "metadata": {},
   "source": [
    "<div class=\"alert alert-block alert-info\">\n",
    "<h1 style=\"color:black\">Numberes List</h1>\n",
    "</div>\n"
   ]
  },
  {
   "cell_type": "markdown",
   "id": "fca7560d",
   "metadata": {},
   "source": [
    " 1. Create a numberes list by\n",
    " 1. enter 1. followed by a space\n",
    " 1. For simplicity, you use 1. before each entry. The list will be numbered correctly when you run the cell.\n",
    "\n",
    "\n"
   ]
  },
  {
   "cell_type": "markdown",
   "id": "6e94767a",
   "metadata": {},
   "source": [
    "<div class=\"alert alert-block alert-info\" id=\"color\">\n",
    "<h1 style=\"color:black\">Color Box</h1>\n",
    "</div>\n"
   ]
  },
  {
   "cell_type": "markdown",
   "id": "38ca23a3",
   "metadata": {},
   "source": [
    " - Use div tag for color box\n",
    " - The box color is determined by the alert type that you specify\n",
    " ***\n",
    " <div class=\"alert alert-block alert-warning\">\n",
    "<b>Yellow Box</b> \n",
    "</div>\n",
    "\n",
    "<div class=\"alert alert-block alert-success\">\n",
    "<b>Green Box</b> \n",
    "</div>\n",
    "\n",
    "<div class=\"alert alert-block alert-danger\">\n",
    "<b>Red Box</b> \n",
    "</div>"
   ]
  },
  {
   "cell_type": "markdown",
   "id": "29d7f7b4",
   "metadata": {},
   "source": [
    "<div class=\"alert alert-block alert-info\">\n",
    "<h1 style=\"color:black\">Image/Graphic</h1>\n",
    "</div>\n"
   ]
  },
  {
   "cell_type": "markdown",
   "id": "6a2b62b1",
   "metadata": {},
   "source": [
    " - You can attach image files directly to a notebook in Markdown cells by dragging and dropping it into the cell.\n",
    " - Use img tag\n",
    " \n",
    " <img src=\"https://www.ibm.com/brand/experience-guides/developer/b1db1ae501d522a1a4b49613fe07c9f1/01_8-bar-positive.svg\" alt=\"Alt text that describes the graphic\" title=\"Title text\" height=\"100px\" width=\"100px\" />"
   ]
  },
  {
   "cell_type": "markdown",
   "id": "2f8f710a",
   "metadata": {},
   "source": [
    "<div class=\"alert alert-block alert-info\">\n",
    "<h1 style=\"color:black\">Horizontal Lines</h1>\n",
    "</div>\n",
    "\n"
   ]
  },
  {
   "cell_type": "markdown",
   "id": "76f069a8",
   "metadata": {},
   "source": [
    " - On a new line, enter three asterisks:\n",
    "***\n",
    "***\n",
    "***"
   ]
  },
  {
   "cell_type": "markdown",
   "id": "eda725de",
   "metadata": {},
   "source": [
    "<div class=\"alert alert-block alert-info\">\n",
    "<h1 style=\"color:black\">Internal Links</h1>\n",
    "</div>\n",
    "\n"
   ]
  },
  {
   "cell_type": "markdown",
   "id": "93605a50",
   "metadata": {},
   "source": [
    " - To link to a section within your notebook, use the following code:\n",
    "[Section title](#section-title)\n",
    "\n",
    "\n",
    " - Alternatively, you can add an ID above the section:\n",
    "<tag(a) id=\"section_ID\"></a>\n",
    "<div class=\"alert alert-block alert-warning\">\n",
    "<b>Important: Each ID in the notebook must be unique.</b> \n",
    "</div>\n",
    "\n",
    " - To link to a section that has an ID, use the following code:\n",
    "[Section color](#color)\n",
    "\n",
    "\n",
    "<div class=\"alert alert-block alert-warning\">\n",
    "<b>Important: Test all internal links to ensure that they work.</b> \n",
    "</div>"
   ]
  },
  {
   "cell_type": "markdown",
   "id": "a058bc63",
   "metadata": {},
   "source": [
    "<div class=\"alert alert-block alert-info\">\n",
    "<h1 style=\"color:black\">External Links</h1>\n",
    "</div>\n",
    "\n"
   ]
  },
  {
   "cell_type": "markdown",
   "id": "d1b623c1",
   "metadata": {},
   "source": [
    "__[Go to my github](https:github.com/rvindr)__"
   ]
  }
 ],
 "metadata": {
  "kernelspec": {
   "display_name": "Python 3 (ipykernel)",
   "language": "python",
   "name": "python3"
  },
  "language_info": {
   "codemirror_mode": {
    "name": "ipython",
    "version": 3
   },
   "file_extension": ".py",
   "mimetype": "text/x-python",
   "name": "python",
   "nbconvert_exporter": "python",
   "pygments_lexer": "ipython3",
   "version": "3.9.12"
  }
 },
 "nbformat": 4,
 "nbformat_minor": 5
}
